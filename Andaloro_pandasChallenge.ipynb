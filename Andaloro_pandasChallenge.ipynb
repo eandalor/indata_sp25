{
 "cells": [
  {
   "cell_type": "code",
   "execution_count": 1,
   "id": "80a85020-6393-431c-858b-417e5a8d3c3c",
   "metadata": {},
   "outputs": [],
   "source": [
    "# import pandas as pd\n",
    "\n",
    "import pandas as pd"
   ]
  },
  {
   "cell_type": "code",
   "execution_count": 2,
   "id": "60c61629-3aaa-4304-b7cc-24e038102be7",
   "metadata": {},
   "outputs": [
    {
     "data": {
      "text/html": [
       "<div>\n",
       "<style scoped>\n",
       "    .dataframe tbody tr th:only-of-type {\n",
       "        vertical-align: middle;\n",
       "    }\n",
       "\n",
       "    .dataframe tbody tr th {\n",
       "        vertical-align: top;\n",
       "    }\n",
       "\n",
       "    .dataframe thead th {\n",
       "        text-align: right;\n",
       "    }\n",
       "</style>\n",
       "<table border=\"1\" class=\"dataframe\">\n",
       "  <thead>\n",
       "    <tr style=\"text-align: right;\">\n",
       "      <th></th>\n",
       "      <th>movie</th>\n",
       "      <th>year</th>\n",
       "      <th>runtime</th>\n",
       "    </tr>\n",
       "  </thead>\n",
       "  <tbody>\n",
       "    <tr>\n",
       "      <th>0</th>\n",
       "      <td>Before Sunrise</td>\n",
       "      <td>1995</td>\n",
       "      <td>101</td>\n",
       "    </tr>\n",
       "    <tr>\n",
       "      <th>1</th>\n",
       "      <td>Before Sunset</td>\n",
       "      <td>2004</td>\n",
       "      <td>80</td>\n",
       "    </tr>\n",
       "    <tr>\n",
       "      <th>2</th>\n",
       "      <td>Before Midnight</td>\n",
       "      <td>2013</td>\n",
       "      <td>109</td>\n",
       "    </tr>\n",
       "  </tbody>\n",
       "</table>\n",
       "</div>"
      ],
      "text/plain": [
       "             movie  year  runtime\n",
       "0   Before Sunrise  1995      101\n",
       "1    Before Sunset  2004       80\n",
       "2  Before Midnight  2013      109"
      ]
     },
     "execution_count": 2,
     "metadata": {},
     "output_type": "execute_result"
    }
   ],
   "source": [
    "# create DataFrame that contains three columns and three rows\n",
    "\n",
    "a = ['Before Sunrise','Before Sunset','Before Midnight']\n",
    "b = [1995, 2004, 2013]\n",
    "c = [101, 80, 109]\n",
    "\n",
    "pd.DataFrame({'movie' : a, 'year' : b, 'runtime' : c})"
   ]
  },
  {
   "cell_type": "code",
   "execution_count": 3,
   "id": "43f1597b-a627-485e-b6dd-879f57bf8c76",
   "metadata": {},
   "outputs": [],
   "source": [
    "df = pd.DataFrame({'movie': a, 'year': b, 'runtime': c})"
   ]
  },
  {
   "cell_type": "code",
   "execution_count": 4,
   "id": "7d78f2c7-a7aa-4c94-9978-e09191cb16e4",
   "metadata": {},
   "outputs": [
    {
     "data": {
      "text/html": [
       "<div>\n",
       "<style scoped>\n",
       "    .dataframe tbody tr th:only-of-type {\n",
       "        vertical-align: middle;\n",
       "    }\n",
       "\n",
       "    .dataframe tbody tr th {\n",
       "        vertical-align: top;\n",
       "    }\n",
       "\n",
       "    .dataframe thead th {\n",
       "        text-align: right;\n",
       "    }\n",
       "</style>\n",
       "<table border=\"1\" class=\"dataframe\">\n",
       "  <thead>\n",
       "    <tr style=\"text-align: right;\">\n",
       "      <th></th>\n",
       "      <th>movie</th>\n",
       "      <th>year</th>\n",
       "      <th>runtime</th>\n",
       "    </tr>\n",
       "  </thead>\n",
       "  <tbody>\n",
       "    <tr>\n",
       "      <th>0</th>\n",
       "      <td>Before Sunrise</td>\n",
       "      <td>1995</td>\n",
       "      <td>101</td>\n",
       "    </tr>\n",
       "    <tr>\n",
       "      <th>1</th>\n",
       "      <td>Before Sunset</td>\n",
       "      <td>2004</td>\n",
       "      <td>80</td>\n",
       "    </tr>\n",
       "    <tr>\n",
       "      <th>2</th>\n",
       "      <td>Before Midnight</td>\n",
       "      <td>2013</td>\n",
       "      <td>109</td>\n",
       "    </tr>\n",
       "  </tbody>\n",
       "</table>\n",
       "</div>"
      ],
      "text/plain": [
       "             movie  year  runtime\n",
       "0   Before Sunrise  1995      101\n",
       "1    Before Sunset  2004       80\n",
       "2  Before Midnight  2013      109"
      ]
     },
     "execution_count": 4,
     "metadata": {},
     "output_type": "execute_result"
    }
   ],
   "source": [
    "# view the head of the DataFrame\n",
    "\n",
    "df.head()"
   ]
  },
  {
   "cell_type": "code",
   "execution_count": 5,
   "id": "c74b16fa-b7b5-49ce-8ffa-e8249302abbc",
   "metadata": {},
   "outputs": [
    {
     "data": {
      "text/plain": [
       "RangeIndex(start=0, stop=3, step=1)"
      ]
     },
     "execution_count": 5,
     "metadata": {},
     "output_type": "execute_result"
    }
   ],
   "source": [
    "# view the index of the DataFrame\n",
    "\n",
    "df.index"
   ]
  },
  {
   "cell_type": "code",
   "execution_count": 6,
   "id": "13e700a1-f8bf-4c2b-a92d-c3fe938a296a",
   "metadata": {},
   "outputs": [
    {
     "data": {
      "text/plain": [
       "0     Before Sunrise\n",
       "1      Before Sunset\n",
       "2    Before Midnight\n",
       "Name: movie, dtype: object"
      ]
     },
     "execution_count": 6,
     "metadata": {},
     "output_type": "execute_result"
    }
   ],
   "source": [
    "# select and view only the first column of the DataFrame\n",
    "\n",
    "df['movie']"
   ]
  },
  {
   "cell_type": "code",
   "execution_count": 7,
   "id": "ff864cdb-0c3b-41a9-8c6e-ea6d7e1481a8",
   "metadata": {},
   "outputs": [
    {
     "data": {
      "text/plain": [
       "movie      Before Sunrise\n",
       "year                 1995\n",
       "runtime               101\n",
       "Name: 0, dtype: object"
      ]
     },
     "execution_count": 7,
     "metadata": {},
     "output_type": "execute_result"
    }
   ],
   "source": [
    "# select and view only the first row of the DataFrame\n",
    "\n",
    "df.loc[0]"
   ]
  },
  {
   "cell_type": "code",
   "execution_count": 8,
   "id": "76d944a9-afc9-4da6-ba33-320905755776",
   "metadata": {},
   "outputs": [
    {
     "data": {
      "text/html": [
       "<div>\n",
       "<style scoped>\n",
       "    .dataframe tbody tr th:only-of-type {\n",
       "        vertical-align: middle;\n",
       "    }\n",
       "\n",
       "    .dataframe tbody tr th {\n",
       "        vertical-align: top;\n",
       "    }\n",
       "\n",
       "    .dataframe thead th {\n",
       "        text-align: right;\n",
       "    }\n",
       "</style>\n",
       "<table border=\"1\" class=\"dataframe\">\n",
       "  <thead>\n",
       "    <tr style=\"text-align: right;\">\n",
       "      <th></th>\n",
       "      <th>movie</th>\n",
       "      <th>year</th>\n",
       "      <th>runtime</th>\n",
       "    </tr>\n",
       "  </thead>\n",
       "  <tbody>\n",
       "    <tr>\n",
       "      <th>0</th>\n",
       "      <td>Before Sunrise</td>\n",
       "      <td>1995</td>\n",
       "      <td>101</td>\n",
       "    </tr>\n",
       "    <tr>\n",
       "      <th>1</th>\n",
       "      <td>Before Sunset</td>\n",
       "      <td>2004</td>\n",
       "      <td>80</td>\n",
       "    </tr>\n",
       "    <tr>\n",
       "      <th>2</th>\n",
       "      <td>Before Midnight</td>\n",
       "      <td>2013</td>\n",
       "      <td>109</td>\n",
       "    </tr>\n",
       "  </tbody>\n",
       "</table>\n",
       "</div>"
      ],
      "text/plain": [
       "             movie  year  runtime\n",
       "0   Before Sunrise  1995      101\n",
       "1    Before Sunset  2004       80\n",
       "2  Before Midnight  2013      109"
      ]
     },
     "execution_count": 8,
     "metadata": {},
     "output_type": "execute_result"
    }
   ],
   "source": [
    "# create DataFrame that contains three columns and three rows\n",
    "\n",
    "a = {'movie': 'Before Sunrise', 'year': 1995, 'runtime': 101}\n",
    "b = {'movie': 'Before Sunset', 'year': 2004, 'runtime': 80}\n",
    "c = {'movie': 'Before Midnight', 'year': 2013, 'runtime': 109}\n",
    "\n",
    "pd.DataFrame([a, b, c])"
   ]
  },
  {
   "cell_type": "code",
   "execution_count": 9,
   "id": "a98aaff4-7c0d-4b5c-805a-d51e99841a44",
   "metadata": {},
   "outputs": [],
   "source": [
    "df = pd.DataFrame([a, b, c])"
   ]
  },
  {
   "cell_type": "code",
   "execution_count": 10,
   "id": "b512a194-8786-43e6-b0b4-eca914225de5",
   "metadata": {},
   "outputs": [],
   "source": [
    "# write the DataFrame to CSV file using pandas method\n",
    "\n",
    "df.to_csv(\"before_trilogy.csv\")"
   ]
  },
  {
   "cell_type": "code",
   "execution_count": 11,
   "id": "23870b91-3900-479f-8ce8-9707a3533781",
   "metadata": {},
   "outputs": [
    {
     "data": {
      "text/html": [
       "<div>\n",
       "<style scoped>\n",
       "    .dataframe tbody tr th:only-of-type {\n",
       "        vertical-align: middle;\n",
       "    }\n",
       "\n",
       "    .dataframe tbody tr th {\n",
       "        vertical-align: top;\n",
       "    }\n",
       "\n",
       "    .dataframe thead th {\n",
       "        text-align: right;\n",
       "    }\n",
       "</style>\n",
       "<table border=\"1\" class=\"dataframe\">\n",
       "  <thead>\n",
       "    <tr style=\"text-align: right;\">\n",
       "      <th></th>\n",
       "      <th>Unnamed: 0</th>\n",
       "      <th>movie</th>\n",
       "      <th>year</th>\n",
       "      <th>runtime</th>\n",
       "    </tr>\n",
       "  </thead>\n",
       "  <tbody>\n",
       "    <tr>\n",
       "      <th>0</th>\n",
       "      <td>0</td>\n",
       "      <td>Before Sunrise</td>\n",
       "      <td>1995</td>\n",
       "      <td>101</td>\n",
       "    </tr>\n",
       "    <tr>\n",
       "      <th>1</th>\n",
       "      <td>1</td>\n",
       "      <td>Before Sunset</td>\n",
       "      <td>2004</td>\n",
       "      <td>80</td>\n",
       "    </tr>\n",
       "    <tr>\n",
       "      <th>2</th>\n",
       "      <td>2</td>\n",
       "      <td>Before Midnight</td>\n",
       "      <td>2013</td>\n",
       "      <td>109</td>\n",
       "    </tr>\n",
       "  </tbody>\n",
       "</table>\n",
       "</div>"
      ],
      "text/plain": [
       "   Unnamed: 0            movie  year  runtime\n",
       "0           0   Before Sunrise  1995      101\n",
       "1           1    Before Sunset  2004       80\n",
       "2           2  Before Midnight  2013      109"
      ]
     },
     "execution_count": 11,
     "metadata": {},
     "output_type": "execute_result"
    }
   ],
   "source": [
    "# read the CSV file using pandas method\n",
    "\n",
    "pd.read_csv(\"before_trilogy.csv\")"
   ]
  },
  {
   "cell_type": "markdown",
   "id": "6c265fc2-2cdc-431e-ad35-98f752cb711f",
   "metadata": {},
   "source": [
    "1. What does the \"write/render/evaluate\" loop provide for creators of interactive data visualizations?\n",
    "2. Why are dynamic, interactive data visualizations useful when communicating data?\n",
    "3. Do you agree with Murray's claim that open-source tools that avoid proprietary software are best for publishing data visualization? In a few sentences, explain why you do or do not agree.\n",
    "---\n",
    "1. The *write/render/evaluate* loop described by Murray gives creators the ability to experiment with data visualizations. If the purpose of data visualizations is to help tell the story of a given dataset, the loop allows creators to iterate on visualizations to find a visualization that will best tell the story of the data. This iterative process can only be efficiently completed through the computational mapping of data and writing of code.\n",
    "2. Dynamic, interactive data visualizations allow for Ben Schneiderman's *Visual Information-Seeking Mantra*: \"overview first, zoom and filter, then details-on-demand.\" Interactive data visualizations are useful because they effectively communicate this funnel of information. 1) at a glance, consumers may see the broad story of the data without putting forth much effort; 2) if consumers want to a piece or section of the data, they can filter it; 3) if there is a particular piece of information for which consumers are looking, they can search for it.\n",
    "6. While I use open source software most days of my life - whether that be Zotero for school or Jellyfin for my media server - I do not believe open source software is inherently better than proprietary software. If an organization develops a tool that lowers the barrier to entry - or if it creates an opportunity for a user who would otherwise be unable to create a data visualization - then the proprietary tool is the best tool to use."
   ]
  }
 ],
 "metadata": {
  "kernelspec": {
   "display_name": "Python 3 (ipykernel)",
   "language": "python",
   "name": "python3"
  },
  "language_info": {
   "codemirror_mode": {
    "name": "ipython",
    "version": 3
   },
   "file_extension": ".py",
   "mimetype": "text/x-python",
   "name": "python",
   "nbconvert_exporter": "python",
   "pygments_lexer": "ipython3",
   "version": "3.12.8"
  }
 },
 "nbformat": 4,
 "nbformat_minor": 5
}
