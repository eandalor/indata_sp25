{
 "cells": [
  {
   "cell_type": "code",
   "execution_count": 2,
   "id": "495996c2-4884-4e11-9391-2729afbe7f5d",
   "metadata": {},
   "outputs": [],
   "source": [
    "import pandas as pd\n",
    "import json"
   ]
  },
  {
   "cell_type": "code",
   "execution_count": 4,
   "id": "545c2eb3-b71a-4c23-897a-e3956102a497",
   "metadata": {},
   "outputs": [],
   "source": [
    "with open('Spotify_Montero_data.json') as j:\n",
    "    album = json.load(j)"
   ]
  },
  {
   "cell_type": "code",
   "execution_count": 8,
   "id": "3041a6e0-5029-4adf-b026-d64ea39c7fda",
   "metadata": {},
   "outputs": [
    {
     "data": {
      "text/plain": [
       "dict"
      ]
     },
     "execution_count": 8,
     "metadata": {},
     "output_type": "execute_result"
    }
   ],
   "source": [
    "type(album)"
   ]
  },
  {
   "cell_type": "code",
   "execution_count": 9,
   "id": "958b84d3-0867-4e0e-8731-c4b4de85e9dc",
   "metadata": {},
   "outputs": [
    {
     "data": {
      "text/plain": [
       "dict_keys(['album_type', 'artists', 'available_markets', 'copyrights', 'external_ids', 'external_urls', 'genres', 'href', 'id', 'images', 'label', 'name', 'popularity', 'release_date', 'release_date_precision', 'total_tracks', 'tracks', 'type', 'uri'])"
      ]
     },
     "execution_count": 9,
     "metadata": {},
     "output_type": "execute_result"
    }
   ],
   "source": [
    "album.keys()"
   ]
  },
  {
   "cell_type": "code",
   "execution_count": 11,
   "id": "456c99e9-c2d6-43b1-af83-441fac6b4ff9",
   "metadata": {},
   "outputs": [
    {
     "data": {
      "text/plain": [
       "dict"
      ]
     },
     "execution_count": 11,
     "metadata": {},
     "output_type": "execute_result"
    }
   ],
   "source": [
    "type(album['tracks'])"
   ]
  },
  {
   "cell_type": "code",
   "execution_count": 12,
   "id": "256bcece-a94c-438a-a70d-f0d6f40df671",
   "metadata": {},
   "outputs": [
    {
     "data": {
      "text/plain": [
       "dict_keys(['href', 'items', 'limit', 'next', 'offset', 'previous', 'total'])"
      ]
     },
     "execution_count": 12,
     "metadata": {},
     "output_type": "execute_result"
    }
   ],
   "source": [
    "album['tracks'].keys()"
   ]
  },
  {
   "cell_type": "code",
   "execution_count": 15,
   "id": "e5c6d095-df22-4023-8c4b-339b1079335d",
   "metadata": {},
   "outputs": [
    {
     "data": {
      "text/plain": [
       "list"
      ]
     },
     "execution_count": 15,
     "metadata": {},
     "output_type": "execute_result"
    }
   ],
   "source": [
    "type(album['tracks']['items'])"
   ]
  },
  {
   "cell_type": "code",
   "execution_count": 16,
   "id": "a0235e40-9139-4227-8478-71832a1c0af9",
   "metadata": {},
   "outputs": [
    {
     "data": {
      "text/plain": [
       "15"
      ]
     },
     "execution_count": 16,
     "metadata": {},
     "output_type": "execute_result"
    }
   ],
   "source": [
    "len(album['tracks']['items'])"
   ]
  },
  {
   "cell_type": "markdown",
   "id": "955a9e9c-8ea6-4ddd-a09f-4fd90c5f06e8",
   "metadata": {},
   "source": [
    "Selecting an index from the 0th location:"
   ]
  },
  {
   "cell_type": "code",
   "execution_count": 17,
   "id": "7d8dbaed-98fd-48b4-be62-6ef8f15e6b50",
   "metadata": {},
   "outputs": [
    {
     "data": {
      "text/plain": [
       "{'artists': [{'external_urls': {'spotify': 'https://open.spotify.com/artist/7jVv8c5Fj3E9VhNjxT4snq'},\n",
       "   'href': 'https://api.spotify.com/v1/artists/7jVv8c5Fj3E9VhNjxT4snq',\n",
       "   'id': '7jVv8c5Fj3E9VhNjxT4snq',\n",
       "   'name': 'Lil Nas X',\n",
       "   'type': 'artist',\n",
       "   'uri': 'spotify:artist:7jVv8c5Fj3E9VhNjxT4snq'}],\n",
       " 'available_markets': ['AD',\n",
       "  'AE',\n",
       "  'AG',\n",
       "  'AL',\n",
       "  'AM',\n",
       "  'AO',\n",
       "  'AR',\n",
       "  'AT',\n",
       "  'AU',\n",
       "  'AZ',\n",
       "  'BA',\n",
       "  'BB',\n",
       "  'BD',\n",
       "  'BE',\n",
       "  'BF',\n",
       "  'BG',\n",
       "  'BH',\n",
       "  'BI',\n",
       "  'BJ',\n",
       "  'BN',\n",
       "  'BO',\n",
       "  'BR',\n",
       "  'BS',\n",
       "  'BT',\n",
       "  'BW',\n",
       "  'BY',\n",
       "  'BZ',\n",
       "  'CA',\n",
       "  'CD',\n",
       "  'CG',\n",
       "  'CH',\n",
       "  'CI',\n",
       "  'CL',\n",
       "  'CM',\n",
       "  'CO',\n",
       "  'CR',\n",
       "  'CV',\n",
       "  'CW',\n",
       "  'CY',\n",
       "  'CZ',\n",
       "  'DE',\n",
       "  'DJ',\n",
       "  'DK',\n",
       "  'DM',\n",
       "  'DO',\n",
       "  'DZ',\n",
       "  'EC',\n",
       "  'EE',\n",
       "  'EG',\n",
       "  'ES',\n",
       "  'ET',\n",
       "  'FI',\n",
       "  'FJ',\n",
       "  'FM',\n",
       "  'FR',\n",
       "  'GA',\n",
       "  'GB',\n",
       "  'GD',\n",
       "  'GE',\n",
       "  'GH',\n",
       "  'GM',\n",
       "  'GN',\n",
       "  'GQ',\n",
       "  'GR',\n",
       "  'GT',\n",
       "  'GW',\n",
       "  'GY',\n",
       "  'HK',\n",
       "  'HN',\n",
       "  'HR',\n",
       "  'HT',\n",
       "  'HU',\n",
       "  'ID',\n",
       "  'IE',\n",
       "  'IL',\n",
       "  'IN',\n",
       "  'IQ',\n",
       "  'IS',\n",
       "  'IT',\n",
       "  'JM',\n",
       "  'JO',\n",
       "  'JP',\n",
       "  'KE',\n",
       "  'KG',\n",
       "  'KH',\n",
       "  'KI',\n",
       "  'KM',\n",
       "  'KN',\n",
       "  'KR',\n",
       "  'KW',\n",
       "  'KZ',\n",
       "  'LA',\n",
       "  'LB',\n",
       "  'LC',\n",
       "  'LI',\n",
       "  'LK',\n",
       "  'LR',\n",
       "  'LS',\n",
       "  'LT',\n",
       "  'LU',\n",
       "  'LV',\n",
       "  'LY',\n",
       "  'MA',\n",
       "  'MC',\n",
       "  'MD',\n",
       "  'ME',\n",
       "  'MG',\n",
       "  'MH',\n",
       "  'MK',\n",
       "  'ML',\n",
       "  'MN',\n",
       "  'MO',\n",
       "  'MR',\n",
       "  'MT',\n",
       "  'MU',\n",
       "  'MV',\n",
       "  'MW',\n",
       "  'MX',\n",
       "  'MY',\n",
       "  'MZ',\n",
       "  'NA',\n",
       "  'NE',\n",
       "  'NG',\n",
       "  'NI',\n",
       "  'NL',\n",
       "  'NO',\n",
       "  'NP',\n",
       "  'NR',\n",
       "  'NZ',\n",
       "  'OM',\n",
       "  'PA',\n",
       "  'PE',\n",
       "  'PG',\n",
       "  'PH',\n",
       "  'PK',\n",
       "  'PL',\n",
       "  'PS',\n",
       "  'PT',\n",
       "  'PW',\n",
       "  'PY',\n",
       "  'QA',\n",
       "  'RO',\n",
       "  'RS',\n",
       "  'RW',\n",
       "  'SA',\n",
       "  'SB',\n",
       "  'SC',\n",
       "  'SE',\n",
       "  'SG',\n",
       "  'SI',\n",
       "  'SK',\n",
       "  'SL',\n",
       "  'SM',\n",
       "  'SN',\n",
       "  'SR',\n",
       "  'ST',\n",
       "  'SV',\n",
       "  'SZ',\n",
       "  'TD',\n",
       "  'TG',\n",
       "  'TH',\n",
       "  'TJ',\n",
       "  'TL',\n",
       "  'TN',\n",
       "  'TO',\n",
       "  'TR',\n",
       "  'TT',\n",
       "  'TV',\n",
       "  'TW',\n",
       "  'TZ',\n",
       "  'UA',\n",
       "  'UG',\n",
       "  'US',\n",
       "  'UY',\n",
       "  'UZ',\n",
       "  'VC',\n",
       "  'VE',\n",
       "  'VN',\n",
       "  'VU',\n",
       "  'WS',\n",
       "  'XK',\n",
       "  'ZA',\n",
       "  'ZM',\n",
       "  'ZW'],\n",
       " 'disc_number': 1,\n",
       " 'duration_ms': 137704,\n",
       " 'explicit': True,\n",
       " 'external_urls': {'spotify': 'https://open.spotify.com/track/1SC5rEoYDGUK4NfG82494W'},\n",
       " 'href': 'https://api.spotify.com/v1/tracks/1SC5rEoYDGUK4NfG82494W',\n",
       " 'id': '1SC5rEoYDGUK4NfG82494W',\n",
       " 'is_local': False,\n",
       " 'name': 'MONTERO (Call Me By Your Name)',\n",
       " 'preview_url': 'https://p.scdn.co/mp3-preview/a25aff06d2a2f2cf4c5d8d9a7e45ce50789cab50?cid=57cd9c1fb9ad4a53aaab53a9796ba7e9',\n",
       " 'track_number': 1,\n",
       " 'type': 'track',\n",
       " 'uri': 'spotify:track:1SC5rEoYDGUK4NfG82494W'}"
      ]
     },
     "execution_count": 17,
     "metadata": {},
     "output_type": "execute_result"
    }
   ],
   "source": [
    "album['tracks']['items'][0]"
   ]
  },
  {
   "cell_type": "code",
   "execution_count": 18,
   "id": "f3c71783-a6df-49d0-94f5-23fdededc43e",
   "metadata": {},
   "outputs": [
    {
     "data": {
      "text/plain": [
       "dict"
      ]
     },
     "execution_count": 18,
     "metadata": {},
     "output_type": "execute_result"
    }
   ],
   "source": [
    "type(album['tracks']['items'][0])"
   ]
  },
  {
   "cell_type": "code",
   "execution_count": 21,
   "id": "81eb3639-76d1-4e36-b805-f01e2af31b5d",
   "metadata": {},
   "outputs": [
    {
     "data": {
      "text/plain": [
       "dict_keys(['artists', 'available_markets', 'disc_number', 'duration_ms', 'explicit', 'external_urls', 'href', 'id', 'is_local', 'name', 'preview_url', 'track_number', 'type', 'uri'])"
      ]
     },
     "execution_count": 21,
     "metadata": {},
     "output_type": "execute_result"
    }
   ],
   "source": [
    "album['tracks']['items'][0].keys()"
   ]
  },
  {
   "cell_type": "code",
   "execution_count": 26,
   "id": "b6d0ebc3-a1b7-40da-b212-eec0c6071164",
   "metadata": {},
   "outputs": [
    {
     "data": {
      "text/html": [
       "<div>\n",
       "<style scoped>\n",
       "    .dataframe tbody tr th:only-of-type {\n",
       "        vertical-align: middle;\n",
       "    }\n",
       "\n",
       "    .dataframe tbody tr th {\n",
       "        vertical-align: top;\n",
       "    }\n",
       "\n",
       "    .dataframe thead th {\n",
       "        text-align: right;\n",
       "    }\n",
       "</style>\n",
       "<table border=\"1\" class=\"dataframe\">\n",
       "  <thead>\n",
       "    <tr style=\"text-align: right;\">\n",
       "      <th></th>\n",
       "      <th>artists</th>\n",
       "      <th>available_markets</th>\n",
       "      <th>disc_number</th>\n",
       "      <th>duration_ms</th>\n",
       "      <th>explicit</th>\n",
       "      <th>external_urls</th>\n",
       "      <th>href</th>\n",
       "      <th>id</th>\n",
       "      <th>is_local</th>\n",
       "      <th>name</th>\n",
       "      <th>preview_url</th>\n",
       "      <th>track_number</th>\n",
       "      <th>type</th>\n",
       "      <th>uri</th>\n",
       "    </tr>\n",
       "  </thead>\n",
       "  <tbody>\n",
       "    <tr>\n",
       "      <th>0</th>\n",
       "      <td>[{'external_urls': {'spotify': 'https://open.s...</td>\n",
       "      <td>[AD, AE, AG, AL, AM, AO, AR, AT, AU, AZ, BA, B...</td>\n",
       "      <td>1</td>\n",
       "      <td>137704</td>\n",
       "      <td>True</td>\n",
       "      <td>{'spotify': 'https://open.spotify.com/track/1S...</td>\n",
       "      <td>https://api.spotify.com/v1/tracks/1SC5rEoYDGUK...</td>\n",
       "      <td>1SC5rEoYDGUK4NfG82494W</td>\n",
       "      <td>False</td>\n",
       "      <td>MONTERO (Call Me By Your Name)</td>\n",
       "      <td>https://p.scdn.co/mp3-preview/a25aff06d2a2f2cf...</td>\n",
       "      <td>1</td>\n",
       "      <td>track</td>\n",
       "      <td>spotify:track:1SC5rEoYDGUK4NfG82494W</td>\n",
       "    </tr>\n",
       "    <tr>\n",
       "      <th>1</th>\n",
       "      <td>[{'external_urls': {'spotify': 'https://open.s...</td>\n",
       "      <td>[AD, AE, AG, AL, AM, AO, AR, AT, AU, AZ, BA, B...</td>\n",
       "      <td>1</td>\n",
       "      <td>221203</td>\n",
       "      <td>True</td>\n",
       "      <td>{'spotify': 'https://open.spotify.com/track/3g...</td>\n",
       "      <td>https://api.spotify.com/v1/tracks/3grVoZ10bm2j...</td>\n",
       "      <td>3grVoZ10bm2jUGpo7BxpuF</td>\n",
       "      <td>False</td>\n",
       "      <td>DEAD RIGHT NOW</td>\n",
       "      <td>https://p.scdn.co/mp3-preview/63edfe0701b3d240...</td>\n",
       "      <td>2</td>\n",
       "      <td>track</td>\n",
       "      <td>spotify:track:3grVoZ10bm2jUGpo7BxpuF</td>\n",
       "    </tr>\n",
       "    <tr>\n",
       "      <th>2</th>\n",
       "      <td>[{'external_urls': {'spotify': 'https://open.s...</td>\n",
       "      <td>[AD, AE, AG, AL, AM, AO, AR, AT, AU, AZ, BA, B...</td>\n",
       "      <td>1</td>\n",
       "      <td>212352</td>\n",
       "      <td>True</td>\n",
       "      <td>{'spotify': 'https://open.spotify.com/track/5Z...</td>\n",
       "      <td>https://api.spotify.com/v1/tracks/5Z9KJZvQzH6P...</td>\n",
       "      <td>5Z9KJZvQzH6PFmb8SNkxuk</td>\n",
       "      <td>False</td>\n",
       "      <td>INDUSTRY BABY (feat. Jack Harlow)</td>\n",
       "      <td>https://p.scdn.co/mp3-preview/31e16e1bc7aad79a...</td>\n",
       "      <td>3</td>\n",
       "      <td>track</td>\n",
       "      <td>spotify:track:5Z9KJZvQzH6PFmb8SNkxuk</td>\n",
       "    </tr>\n",
       "    <tr>\n",
       "      <th>3</th>\n",
       "      <td>[{'external_urls': {'spotify': 'https://open.s...</td>\n",
       "      <td>[AD, AE, AG, AL, AM, AO, AR, AT, AU, AZ, BA, B...</td>\n",
       "      <td>1</td>\n",
       "      <td>143901</td>\n",
       "      <td>True</td>\n",
       "      <td>{'spotify': 'https://open.spotify.com/track/0e...</td>\n",
       "      <td>https://api.spotify.com/v1/tracks/0e8nrvls4Qqv...</td>\n",
       "      <td>0e8nrvls4Qqv5Rfa2UhqmO</td>\n",
       "      <td>False</td>\n",
       "      <td>THATS WHAT I WANT</td>\n",
       "      <td>https://p.scdn.co/mp3-preview/d62f4961618e4b4d...</td>\n",
       "      <td>4</td>\n",
       "      <td>track</td>\n",
       "      <td>spotify:track:0e8nrvls4Qqv5Rfa2UhqmO</td>\n",
       "    </tr>\n",
       "    <tr>\n",
       "      <th>4</th>\n",
       "      <td>[{'external_urls': {'spotify': 'https://open.s...</td>\n",
       "      <td>[AD, AE, AG, AL, AM, AO, AR, AT, AU, AZ, BA, B...</td>\n",
       "      <td>1</td>\n",
       "      <td>24005</td>\n",
       "      <td>False</td>\n",
       "      <td>{'spotify': 'https://open.spotify.com/track/1B...</td>\n",
       "      <td>https://api.spotify.com/v1/tracks/1BMu5TWvalAG...</td>\n",
       "      <td>1BMu5TWvalAGpi5jlhFEBb</td>\n",
       "      <td>False</td>\n",
       "      <td>THE ART OF REALIZATION</td>\n",
       "      <td>https://p.scdn.co/mp3-preview/48abace5e799d0cd...</td>\n",
       "      <td>5</td>\n",
       "      <td>track</td>\n",
       "      <td>spotify:track:1BMu5TWvalAGpi5jlhFEBb</td>\n",
       "    </tr>\n",
       "  </tbody>\n",
       "</table>\n",
       "</div>"
      ],
      "text/plain": [
       "                                             artists  \\\n",
       "0  [{'external_urls': {'spotify': 'https://open.s...   \n",
       "1  [{'external_urls': {'spotify': 'https://open.s...   \n",
       "2  [{'external_urls': {'spotify': 'https://open.s...   \n",
       "3  [{'external_urls': {'spotify': 'https://open.s...   \n",
       "4  [{'external_urls': {'spotify': 'https://open.s...   \n",
       "\n",
       "                                   available_markets  disc_number  \\\n",
       "0  [AD, AE, AG, AL, AM, AO, AR, AT, AU, AZ, BA, B...            1   \n",
       "1  [AD, AE, AG, AL, AM, AO, AR, AT, AU, AZ, BA, B...            1   \n",
       "2  [AD, AE, AG, AL, AM, AO, AR, AT, AU, AZ, BA, B...            1   \n",
       "3  [AD, AE, AG, AL, AM, AO, AR, AT, AU, AZ, BA, B...            1   \n",
       "4  [AD, AE, AG, AL, AM, AO, AR, AT, AU, AZ, BA, B...            1   \n",
       "\n",
       "   duration_ms  explicit                                      external_urls  \\\n",
       "0       137704      True  {'spotify': 'https://open.spotify.com/track/1S...   \n",
       "1       221203      True  {'spotify': 'https://open.spotify.com/track/3g...   \n",
       "2       212352      True  {'spotify': 'https://open.spotify.com/track/5Z...   \n",
       "3       143901      True  {'spotify': 'https://open.spotify.com/track/0e...   \n",
       "4        24005     False  {'spotify': 'https://open.spotify.com/track/1B...   \n",
       "\n",
       "                                                href                      id  \\\n",
       "0  https://api.spotify.com/v1/tracks/1SC5rEoYDGUK...  1SC5rEoYDGUK4NfG82494W   \n",
       "1  https://api.spotify.com/v1/tracks/3grVoZ10bm2j...  3grVoZ10bm2jUGpo7BxpuF   \n",
       "2  https://api.spotify.com/v1/tracks/5Z9KJZvQzH6P...  5Z9KJZvQzH6PFmb8SNkxuk   \n",
       "3  https://api.spotify.com/v1/tracks/0e8nrvls4Qqv...  0e8nrvls4Qqv5Rfa2UhqmO   \n",
       "4  https://api.spotify.com/v1/tracks/1BMu5TWvalAG...  1BMu5TWvalAGpi5jlhFEBb   \n",
       "\n",
       "   is_local                               name  \\\n",
       "0     False     MONTERO (Call Me By Your Name)   \n",
       "1     False                     DEAD RIGHT NOW   \n",
       "2     False  INDUSTRY BABY (feat. Jack Harlow)   \n",
       "3     False                  THATS WHAT I WANT   \n",
       "4     False             THE ART OF REALIZATION   \n",
       "\n",
       "                                         preview_url  track_number   type  \\\n",
       "0  https://p.scdn.co/mp3-preview/a25aff06d2a2f2cf...             1  track   \n",
       "1  https://p.scdn.co/mp3-preview/63edfe0701b3d240...             2  track   \n",
       "2  https://p.scdn.co/mp3-preview/31e16e1bc7aad79a...             3  track   \n",
       "3  https://p.scdn.co/mp3-preview/d62f4961618e4b4d...             4  track   \n",
       "4  https://p.scdn.co/mp3-preview/48abace5e799d0cd...             5  track   \n",
       "\n",
       "                                    uri  \n",
       "0  spotify:track:1SC5rEoYDGUK4NfG82494W  \n",
       "1  spotify:track:3grVoZ10bm2jUGpo7BxpuF  \n",
       "2  spotify:track:5Z9KJZvQzH6PFmb8SNkxuk  \n",
       "3  spotify:track:0e8nrvls4Qqv5Rfa2UhqmO  \n",
       "4  spotify:track:1BMu5TWvalAGpi5jlhFEBb  "
      ]
     },
     "execution_count": 26,
     "metadata": {},
     "output_type": "execute_result"
    }
   ],
   "source": [
    "montero_df = pd.DataFrame(album['tracks']['items'])\n",
    "montero_df.head()"
   ]
  },
  {
   "cell_type": "code",
   "execution_count": 30,
   "id": "a3e13bc4-6a86-45d1-a759-740da9ae9665",
   "metadata": {},
   "outputs": [
    {
     "data": {
      "text/plain": [
       "[{'external_urls': {'spotify': 'https://open.spotify.com/artist/7jVv8c5Fj3E9VhNjxT4snq'},\n",
       "  'href': 'https://api.spotify.com/v1/artists/7jVv8c5Fj3E9VhNjxT4snq',\n",
       "  'id': '7jVv8c5Fj3E9VhNjxT4snq',\n",
       "  'name': 'Lil Nas X',\n",
       "  'type': 'artist',\n",
       "  'uri': 'spotify:artist:7jVv8c5Fj3E9VhNjxT4snq'}]"
      ]
     },
     "execution_count": 30,
     "metadata": {},
     "output_type": "execute_result"
    }
   ],
   "source": [
    "montero_df['artists'].iloc[0]"
   ]
  },
  {
   "cell_type": "code",
   "execution_count": 31,
   "id": "b7af21b3-22e4-4783-867a-cb94e295cc0c",
   "metadata": {},
   "outputs": [
    {
     "data": {
      "text/plain": [
       "{'external_urls': {'spotify': 'https://open.spotify.com/artist/7jVv8c5Fj3E9VhNjxT4snq'},\n",
       " 'href': 'https://api.spotify.com/v1/artists/7jVv8c5Fj3E9VhNjxT4snq',\n",
       " 'id': '7jVv8c5Fj3E9VhNjxT4snq',\n",
       " 'name': 'Lil Nas X',\n",
       " 'type': 'artist',\n",
       " 'uri': 'spotify:artist:7jVv8c5Fj3E9VhNjxT4snq'}"
      ]
     },
     "execution_count": 31,
     "metadata": {},
     "output_type": "execute_result"
    }
   ],
   "source": [
    "montero_df['artists'].iloc[0][0]"
   ]
  },
  {
   "cell_type": "code",
   "execution_count": 28,
   "id": "5c90bb33-eba9-4472-8a8a-d77501c9e692",
   "metadata": {},
   "outputs": [
    {
     "data": {
      "text/plain": [
       "'Lil Nas X'"
      ]
     },
     "execution_count": 28,
     "metadata": {},
     "output_type": "execute_result"
    }
   ],
   "source": [
    "montero_df['artists'].iloc[0][0]['name']"
   ]
  },
  {
   "cell_type": "code",
   "execution_count": 33,
   "id": "044fa8d6-fb4d-4d04-a985-f4e148ac031a",
   "metadata": {},
   "outputs": [
    {
     "data": {
      "text/plain": [
       "[1, 1, 2, 1, 1, 2, 2, 1, 2, 1, 1, 1, 1, 1, 2]"
      ]
     },
     "execution_count": 33,
     "metadata": {},
     "output_type": "execute_result"
    }
   ],
   "source": [
    "[len(x) for x in montero_df['artists']]"
   ]
  },
  {
   "cell_type": "code",
   "execution_count": 35,
   "id": "9aa8b274-77e0-495b-9933-c8b96a8aab5c",
   "metadata": {},
   "outputs": [
    {
     "data": {
      "text/plain": [
       "'Jack Harlow'"
      ]
     },
     "execution_count": 35,
     "metadata": {},
     "output_type": "execute_result"
    }
   ],
   "source": [
    "montero_df['artists'].iloc[2][1]['name']"
   ]
  },
  {
   "cell_type": "code",
   "execution_count": 40,
   "id": "bd295215-354f-46cd-8493-b447d484ca3b",
   "metadata": {},
   "outputs": [
    {
     "data": {
      "text/plain": [
       "'a, b'"
      ]
     },
     "execution_count": 40,
     "metadata": {},
     "output_type": "execute_result"
    }
   ],
   "source": [
    "', '.join(['a','b'])"
   ]
  },
  {
   "cell_type": "code",
   "execution_count": 37,
   "id": "3401623e-aaaf-4e64-8f06-4ced7dc83fe0",
   "metadata": {},
   "outputs": [
    {
     "data": {
      "text/plain": [
       "[['Lil Nas X'],\n",
       " ['Lil Nas X'],\n",
       " ['Lil Nas X', 'Jack Harlow'],\n",
       " ['Lil Nas X'],\n",
       " ['Lil Nas X'],\n",
       " ['Lil Nas X', 'Doja Cat'],\n",
       " ['Lil Nas X', 'Elton John'],\n",
       " ['Lil Nas X'],\n",
       " ['Lil Nas X', 'Megan Thee Stallion'],\n",
       " ['Lil Nas X'],\n",
       " ['Lil Nas X'],\n",
       " ['Lil Nas X'],\n",
       " ['Lil Nas X'],\n",
       " ['Lil Nas X'],\n",
       " ['Lil Nas X', 'Miley Cyrus']]"
      ]
     },
     "execution_count": 37,
     "metadata": {},
     "output_type": "execute_result"
    }
   ],
   "source": [
    "[[y['name'] for y in x] for x in montero_df['artists']]"
   ]
  },
  {
   "cell_type": "code",
   "execution_count": 43,
   "id": "9380b158-7da4-418f-b212-378be5768a15",
   "metadata": {},
   "outputs": [
    {
     "data": {
      "text/plain": [
       "['Lil Nas X',\n",
       " 'Lil Nas X',\n",
       " 'Lil Nas X, Jack Harlow',\n",
       " 'Lil Nas X',\n",
       " 'Lil Nas X',\n",
       " 'Lil Nas X, Doja Cat',\n",
       " 'Lil Nas X, Elton John',\n",
       " 'Lil Nas X',\n",
       " 'Lil Nas X, Megan Thee Stallion',\n",
       " 'Lil Nas X',\n",
       " 'Lil Nas X',\n",
       " 'Lil Nas X',\n",
       " 'Lil Nas X',\n",
       " 'Lil Nas X',\n",
       " 'Lil Nas X, Miley Cyrus']"
      ]
     },
     "execution_count": 43,
     "metadata": {},
     "output_type": "execute_result"
    }
   ],
   "source": [
    "[', '.join([y['name'] for y in x]) for x in montero_df['artists']]"
   ]
  },
  {
   "cell_type": "code",
   "execution_count": 45,
   "id": "4eb2404a-340c-424a-b10e-2df0bb60ca73",
   "metadata": {},
   "outputs": [],
   "source": [
    "montero_df['artist_names'] = [', '.join([y['name'] for y in x]) for x in montero_df['artists']]"
   ]
  },
  {
   "cell_type": "code",
   "execution_count": 47,
   "id": "58afdc44-4cb2-4036-81cf-a4732607e897",
   "metadata": {},
   "outputs": [
    {
     "data": {
      "text/html": [
       "<div>\n",
       "<style scoped>\n",
       "    .dataframe tbody tr th:only-of-type {\n",
       "        vertical-align: middle;\n",
       "    }\n",
       "\n",
       "    .dataframe tbody tr th {\n",
       "        vertical-align: top;\n",
       "    }\n",
       "\n",
       "    .dataframe thead th {\n",
       "        text-align: right;\n",
       "    }\n",
       "</style>\n",
       "<table border=\"1\" class=\"dataframe\">\n",
       "  <thead>\n",
       "    <tr style=\"text-align: right;\">\n",
       "      <th></th>\n",
       "      <th>artists</th>\n",
       "      <th>available_markets</th>\n",
       "      <th>disc_number</th>\n",
       "      <th>duration_ms</th>\n",
       "      <th>explicit</th>\n",
       "      <th>external_urls</th>\n",
       "      <th>href</th>\n",
       "      <th>id</th>\n",
       "      <th>is_local</th>\n",
       "      <th>name</th>\n",
       "      <th>preview_url</th>\n",
       "      <th>track_number</th>\n",
       "      <th>type</th>\n",
       "      <th>uri</th>\n",
       "      <th>artist_names</th>\n",
       "    </tr>\n",
       "  </thead>\n",
       "  <tbody>\n",
       "    <tr>\n",
       "      <th>0</th>\n",
       "      <td>[{'external_urls': {'spotify': 'https://open.s...</td>\n",
       "      <td>[AD, AE, AG, AL, AM, AO, AR, AT, AU, AZ, BA, B...</td>\n",
       "      <td>1</td>\n",
       "      <td>137704</td>\n",
       "      <td>True</td>\n",
       "      <td>{'spotify': 'https://open.spotify.com/track/1S...</td>\n",
       "      <td>https://api.spotify.com/v1/tracks/1SC5rEoYDGUK...</td>\n",
       "      <td>1SC5rEoYDGUK4NfG82494W</td>\n",
       "      <td>False</td>\n",
       "      <td>MONTERO (Call Me By Your Name)</td>\n",
       "      <td>https://p.scdn.co/mp3-preview/a25aff06d2a2f2cf...</td>\n",
       "      <td>1</td>\n",
       "      <td>track</td>\n",
       "      <td>spotify:track:1SC5rEoYDGUK4NfG82494W</td>\n",
       "      <td>Lil Nas X</td>\n",
       "    </tr>\n",
       "    <tr>\n",
       "      <th>1</th>\n",
       "      <td>[{'external_urls': {'spotify': 'https://open.s...</td>\n",
       "      <td>[AD, AE, AG, AL, AM, AO, AR, AT, AU, AZ, BA, B...</td>\n",
       "      <td>1</td>\n",
       "      <td>221203</td>\n",
       "      <td>True</td>\n",
       "      <td>{'spotify': 'https://open.spotify.com/track/3g...</td>\n",
       "      <td>https://api.spotify.com/v1/tracks/3grVoZ10bm2j...</td>\n",
       "      <td>3grVoZ10bm2jUGpo7BxpuF</td>\n",
       "      <td>False</td>\n",
       "      <td>DEAD RIGHT NOW</td>\n",
       "      <td>https://p.scdn.co/mp3-preview/63edfe0701b3d240...</td>\n",
       "      <td>2</td>\n",
       "      <td>track</td>\n",
       "      <td>spotify:track:3grVoZ10bm2jUGpo7BxpuF</td>\n",
       "      <td>Lil Nas X</td>\n",
       "    </tr>\n",
       "    <tr>\n",
       "      <th>2</th>\n",
       "      <td>[{'external_urls': {'spotify': 'https://open.s...</td>\n",
       "      <td>[AD, AE, AG, AL, AM, AO, AR, AT, AU, AZ, BA, B...</td>\n",
       "      <td>1</td>\n",
       "      <td>212352</td>\n",
       "      <td>True</td>\n",
       "      <td>{'spotify': 'https://open.spotify.com/track/5Z...</td>\n",
       "      <td>https://api.spotify.com/v1/tracks/5Z9KJZvQzH6P...</td>\n",
       "      <td>5Z9KJZvQzH6PFmb8SNkxuk</td>\n",
       "      <td>False</td>\n",
       "      <td>INDUSTRY BABY (feat. Jack Harlow)</td>\n",
       "      <td>https://p.scdn.co/mp3-preview/31e16e1bc7aad79a...</td>\n",
       "      <td>3</td>\n",
       "      <td>track</td>\n",
       "      <td>spotify:track:5Z9KJZvQzH6PFmb8SNkxuk</td>\n",
       "      <td>Lil Nas X, Jack Harlow</td>\n",
       "    </tr>\n",
       "    <tr>\n",
       "      <th>3</th>\n",
       "      <td>[{'external_urls': {'spotify': 'https://open.s...</td>\n",
       "      <td>[AD, AE, AG, AL, AM, AO, AR, AT, AU, AZ, BA, B...</td>\n",
       "      <td>1</td>\n",
       "      <td>143901</td>\n",
       "      <td>True</td>\n",
       "      <td>{'spotify': 'https://open.spotify.com/track/0e...</td>\n",
       "      <td>https://api.spotify.com/v1/tracks/0e8nrvls4Qqv...</td>\n",
       "      <td>0e8nrvls4Qqv5Rfa2UhqmO</td>\n",
       "      <td>False</td>\n",
       "      <td>THATS WHAT I WANT</td>\n",
       "      <td>https://p.scdn.co/mp3-preview/d62f4961618e4b4d...</td>\n",
       "      <td>4</td>\n",
       "      <td>track</td>\n",
       "      <td>spotify:track:0e8nrvls4Qqv5Rfa2UhqmO</td>\n",
       "      <td>Lil Nas X</td>\n",
       "    </tr>\n",
       "    <tr>\n",
       "      <th>4</th>\n",
       "      <td>[{'external_urls': {'spotify': 'https://open.s...</td>\n",
       "      <td>[AD, AE, AG, AL, AM, AO, AR, AT, AU, AZ, BA, B...</td>\n",
       "      <td>1</td>\n",
       "      <td>24005</td>\n",
       "      <td>False</td>\n",
       "      <td>{'spotify': 'https://open.spotify.com/track/1B...</td>\n",
       "      <td>https://api.spotify.com/v1/tracks/1BMu5TWvalAG...</td>\n",
       "      <td>1BMu5TWvalAGpi5jlhFEBb</td>\n",
       "      <td>False</td>\n",
       "      <td>THE ART OF REALIZATION</td>\n",
       "      <td>https://p.scdn.co/mp3-preview/48abace5e799d0cd...</td>\n",
       "      <td>5</td>\n",
       "      <td>track</td>\n",
       "      <td>spotify:track:1BMu5TWvalAGpi5jlhFEBb</td>\n",
       "      <td>Lil Nas X</td>\n",
       "    </tr>\n",
       "  </tbody>\n",
       "</table>\n",
       "</div>"
      ],
      "text/plain": [
       "                                             artists  \\\n",
       "0  [{'external_urls': {'spotify': 'https://open.s...   \n",
       "1  [{'external_urls': {'spotify': 'https://open.s...   \n",
       "2  [{'external_urls': {'spotify': 'https://open.s...   \n",
       "3  [{'external_urls': {'spotify': 'https://open.s...   \n",
       "4  [{'external_urls': {'spotify': 'https://open.s...   \n",
       "\n",
       "                                   available_markets  disc_number  \\\n",
       "0  [AD, AE, AG, AL, AM, AO, AR, AT, AU, AZ, BA, B...            1   \n",
       "1  [AD, AE, AG, AL, AM, AO, AR, AT, AU, AZ, BA, B...            1   \n",
       "2  [AD, AE, AG, AL, AM, AO, AR, AT, AU, AZ, BA, B...            1   \n",
       "3  [AD, AE, AG, AL, AM, AO, AR, AT, AU, AZ, BA, B...            1   \n",
       "4  [AD, AE, AG, AL, AM, AO, AR, AT, AU, AZ, BA, B...            1   \n",
       "\n",
       "   duration_ms  explicit                                      external_urls  \\\n",
       "0       137704      True  {'spotify': 'https://open.spotify.com/track/1S...   \n",
       "1       221203      True  {'spotify': 'https://open.spotify.com/track/3g...   \n",
       "2       212352      True  {'spotify': 'https://open.spotify.com/track/5Z...   \n",
       "3       143901      True  {'spotify': 'https://open.spotify.com/track/0e...   \n",
       "4        24005     False  {'spotify': 'https://open.spotify.com/track/1B...   \n",
       "\n",
       "                                                href                      id  \\\n",
       "0  https://api.spotify.com/v1/tracks/1SC5rEoYDGUK...  1SC5rEoYDGUK4NfG82494W   \n",
       "1  https://api.spotify.com/v1/tracks/3grVoZ10bm2j...  3grVoZ10bm2jUGpo7BxpuF   \n",
       "2  https://api.spotify.com/v1/tracks/5Z9KJZvQzH6P...  5Z9KJZvQzH6PFmb8SNkxuk   \n",
       "3  https://api.spotify.com/v1/tracks/0e8nrvls4Qqv...  0e8nrvls4Qqv5Rfa2UhqmO   \n",
       "4  https://api.spotify.com/v1/tracks/1BMu5TWvalAG...  1BMu5TWvalAGpi5jlhFEBb   \n",
       "\n",
       "   is_local                               name  \\\n",
       "0     False     MONTERO (Call Me By Your Name)   \n",
       "1     False                     DEAD RIGHT NOW   \n",
       "2     False  INDUSTRY BABY (feat. Jack Harlow)   \n",
       "3     False                  THATS WHAT I WANT   \n",
       "4     False             THE ART OF REALIZATION   \n",
       "\n",
       "                                         preview_url  track_number   type  \\\n",
       "0  https://p.scdn.co/mp3-preview/a25aff06d2a2f2cf...             1  track   \n",
       "1  https://p.scdn.co/mp3-preview/63edfe0701b3d240...             2  track   \n",
       "2  https://p.scdn.co/mp3-preview/31e16e1bc7aad79a...             3  track   \n",
       "3  https://p.scdn.co/mp3-preview/d62f4961618e4b4d...             4  track   \n",
       "4  https://p.scdn.co/mp3-preview/48abace5e799d0cd...             5  track   \n",
       "\n",
       "                                    uri            artist_names  \n",
       "0  spotify:track:1SC5rEoYDGUK4NfG82494W               Lil Nas X  \n",
       "1  spotify:track:3grVoZ10bm2jUGpo7BxpuF               Lil Nas X  \n",
       "2  spotify:track:5Z9KJZvQzH6PFmb8SNkxuk  Lil Nas X, Jack Harlow  \n",
       "3  spotify:track:0e8nrvls4Qqv5Rfa2UhqmO               Lil Nas X  \n",
       "4  spotify:track:1BMu5TWvalAGpi5jlhFEBb               Lil Nas X  "
      ]
     },
     "execution_count": 47,
     "metadata": {},
     "output_type": "execute_result"
    }
   ],
   "source": [
    "montero_df.head()"
   ]
  },
  {
   "cell_type": "code",
   "execution_count": 52,
   "id": "6c47c9c1-1ccb-435c-b845-40adfb6444be",
   "metadata": {},
   "outputs": [
    {
     "data": {
      "text/plain": [
       "0     [AD, AE, AG, AL, AM, AO, AR, AT, AU, AZ, BA, B...\n",
       "1     [AD, AE, AG, AL, AM, AO, AR, AT, AU, AZ, BA, B...\n",
       "2     [AD, AE, AG, AL, AM, AO, AR, AT, AU, AZ, BA, B...\n",
       "3     [AD, AE, AG, AL, AM, AO, AR, AT, AU, AZ, BA, B...\n",
       "4     [AD, AE, AG, AL, AM, AO, AR, AT, AU, AZ, BA, B...\n",
       "5     [AD, AE, AG, AL, AM, AO, AR, AT, AU, AZ, BA, B...\n",
       "6     [AD, AE, AG, AL, AM, AO, AR, AT, AU, AZ, BA, B...\n",
       "7     [AD, AE, AG, AL, AM, AO, AR, AT, AU, AZ, BA, B...\n",
       "8     [AD, AE, AG, AL, AM, AO, AR, AT, AU, AZ, BA, B...\n",
       "9     [AD, AE, AG, AL, AM, AO, AR, AT, AU, AZ, BA, B...\n",
       "10    [AD, AE, AG, AL, AM, AO, AR, AT, AU, AZ, BA, B...\n",
       "11    [AD, AE, AG, AL, AM, AO, AR, AT, AU, AZ, BA, B...\n",
       "12    [AD, AE, AG, AL, AM, AO, AR, AT, AU, AZ, BA, B...\n",
       "13    [AD, AE, AG, AL, AM, AO, AR, AT, AU, AZ, BA, B...\n",
       "14    [AD, AE, AG, AL, AM, AO, AR, AT, AU, AZ, BA, B...\n",
       "Name: available_markets, dtype: object"
      ]
     },
     "execution_count": 52,
     "metadata": {},
     "output_type": "execute_result"
    }
   ],
   "source": [
    "montero_df['available_markets']"
   ]
  },
  {
   "cell_type": "code",
   "execution_count": 54,
   "id": "bbfba7c0-29a2-471d-86d9-17ee24e7e836",
   "metadata": {},
   "outputs": [
    {
     "data": {
      "text/plain": [
       "[184, 184, 184, 184, 184, 184, 184, 184, 184, 184, 184, 184, 184, 184, 184]"
      ]
     },
     "execution_count": 54,
     "metadata": {},
     "output_type": "execute_result"
    }
   ],
   "source": [
    "[len(x) for x in montero_df['available_markets']]"
   ]
  },
  {
   "cell_type": "code",
   "execution_count": 56,
   "id": "e427ae1c-a7a6-4617-aece-586062c5de82",
   "metadata": {},
   "outputs": [
    {
     "data": {
      "text/plain": [
       "['is in US',\n",
       " 'is in US',\n",
       " 'is in US',\n",
       " 'is in US',\n",
       " 'is in US',\n",
       " 'is in US',\n",
       " 'is in US',\n",
       " 'is in US',\n",
       " 'is in US',\n",
       " 'is in US',\n",
       " 'is in US',\n",
       " 'is in US',\n",
       " 'is in US',\n",
       " 'is in US',\n",
       " 'is in US']"
      ]
     },
     "execution_count": 56,
     "metadata": {},
     "output_type": "execute_result"
    }
   ],
   "source": [
    "['is in US' if 'US' in x else 'not in US' for x in montero_df['available_markets']]"
   ]
  }
 ],
 "metadata": {
  "kernelspec": {
   "display_name": "Python 3 (ipykernel)",
   "language": "python",
   "name": "python3"
  },
  "language_info": {
   "codemirror_mode": {
    "name": "ipython",
    "version": 3
   },
   "file_extension": ".py",
   "mimetype": "text/x-python",
   "name": "python",
   "nbconvert_exporter": "python",
   "pygments_lexer": "ipython3",
   "version": "3.12.8"
  }
 },
 "nbformat": 4,
 "nbformat_minor": 5
}
