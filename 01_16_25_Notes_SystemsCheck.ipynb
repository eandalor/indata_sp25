{
 "cells": [
  {
   "cell_type": "markdown",
   "id": "e7f85af6-26de-473c-a224-1dc7292e29ee",
   "metadata": {},
   "source": [
    "# Systems Check\n",
    "## Ethan Andaloro"
   ]
  },
  {
   "cell_type": "code",
   "execution_count": 1,
   "id": "73062fb0-b963-408f-9dde-9d00f1a2812a",
   "metadata": {},
   "outputs": [],
   "source": [
    "x = 3 + 1"
   ]
  },
  {
   "cell_type": "code",
   "execution_count": 2,
   "id": "87975f62-93db-483e-9444-1f5ca907e02d",
   "metadata": {},
   "outputs": [
    {
     "data": {
      "text/plain": [
       "4"
      ]
     },
     "execution_count": 2,
     "metadata": {},
     "output_type": "execute_result"
    }
   ],
   "source": [
    "x"
   ]
  },
  {
   "cell_type": "code",
   "execution_count": 3,
   "id": "97445a84-afcd-4aa7-bcfb-215656fad3de",
   "metadata": {},
   "outputs": [],
   "source": [
    "x = 'dog'"
   ]
  },
  {
   "cell_type": "code",
   "execution_count": 4,
   "id": "fff71b8e-ff90-44eb-ace4-17bca3a5f394",
   "metadata": {},
   "outputs": [
    {
     "data": {
      "text/plain": [
       "'dog'"
      ]
     },
     "execution_count": 4,
     "metadata": {},
     "output_type": "execute_result"
    }
   ],
   "source": [
    "x"
   ]
  },
  {
   "cell_type": "code",
   "execution_count": 5,
   "id": "a1d567f2-3666-404a-afa7-f164c7526c6b",
   "metadata": {},
   "outputs": [
    {
     "data": {
      "text/plain": [
       "{'a': [2, 3, 4], 'b': ['a', 'b', 'c']}"
      ]
     },
     "execution_count": 5,
     "metadata": {},
     "output_type": "execute_result"
    }
   ],
   "source": [
    "a = {'a': [2,3,4], 'b':['a','b','c']}\n",
    "a"
   ]
  },
  {
   "cell_type": "code",
   "execution_count": 6,
   "id": "2697c2e3-80c3-46c2-8840-4a75c8a1a07c",
   "metadata": {},
   "outputs": [
    {
     "data": {
      "text/plain": [
       "[2, 3, 4]"
      ]
     },
     "execution_count": 6,
     "metadata": {},
     "output_type": "execute_result"
    }
   ],
   "source": [
    "a['a']"
   ]
  },
  {
   "cell_type": "code",
   "execution_count": 7,
   "id": "9b473b86-bbbc-4d1a-8864-d7080ec12d0f",
   "metadata": {},
   "outputs": [],
   "source": [
    "def say_hello():\n",
    "    print('hello')"
   ]
  },
  {
   "cell_type": "code",
   "execution_count": 8,
   "id": "11b38858-9c33-43ca-bbb0-2acfe49034e6",
   "metadata": {},
   "outputs": [
    {
     "name": "stdout",
     "output_type": "stream",
     "text": [
      "hello\n"
     ]
    }
   ],
   "source": [
    "say_hello()"
   ]
  },
  {
   "cell_type": "code",
   "execution_count": 9,
   "id": "b016a463-48f6-4cf8-96d6-8bec304979ac",
   "metadata": {},
   "outputs": [],
   "source": [
    "def give_hello():\n",
    "    return 'hello'"
   ]
  },
  {
   "cell_type": "code",
   "execution_count": 10,
   "id": "43c19a92-5356-4d0d-8ac3-4fc55fc607fe",
   "metadata": {},
   "outputs": [
    {
     "data": {
      "text/plain": [
       "'hello'"
      ]
     },
     "execution_count": 10,
     "metadata": {},
     "output_type": "execute_result"
    }
   ],
   "source": [
    "give_hello()"
   ]
  },
  {
   "cell_type": "code",
   "execution_count": 28,
   "id": "06b8a5f1-e3c1-40e0-8b9a-0dea965979ce",
   "metadata": {},
   "outputs": [
    {
     "name": "stdout",
     "output_type": "stream",
     "text": [
      "hello\n"
     ]
    }
   ],
   "source": [
    "greeting = say_hello()\n",
    "greeting\n",
    "greeting2 = give_hello()"
   ]
  },
  {
   "cell_type": "code",
   "execution_count": 22,
   "id": "64675cef-76aa-428e-9a2f-15847d71b69e",
   "metadata": {},
   "outputs": [
    {
     "data": {
      "text/plain": [
       "'hello Ethan'"
      ]
     },
     "execution_count": 22,
     "metadata": {},
     "output_type": "execute_result"
    }
   ],
   "source": [
    "greeting2 + ' Ethan'"
   ]
  },
  {
   "cell_type": "code",
   "execution_count": 29,
   "id": "6d1e4810-2b7c-4757-be51-39881e4945bc",
   "metadata": {},
   "outputs": [
    {
     "name": "stdout",
     "output_type": "stream",
     "text": [
      "d\n",
      "o\n",
      "g\n"
     ]
    }
   ],
   "source": [
    "for x in 'dog':\n",
    "    print(x)"
   ]
  },
  {
   "cell_type": "code",
   "execution_count": 30,
   "id": "88b452c6-cb95-44be-a399-50116d243fa8",
   "metadata": {},
   "outputs": [
    {
     "name": "stdout",
     "output_type": "stream",
     "text": [
      "4\n",
      "5\n",
      "6\n",
      "7\n",
      "8\n"
     ]
    }
   ],
   "source": [
    "for i in [1,2,3,4,5]:\n",
    "    q = 3 + i\n",
    "    print(q)"
   ]
  }
 ],
 "metadata": {
  "kernelspec": {
   "display_name": "Python 3 (ipykernel)",
   "language": "python",
   "name": "python3"
  },
  "language_info": {
   "codemirror_mode": {
    "name": "ipython",
    "version": 3
   },
   "file_extension": ".py",
   "mimetype": "text/x-python",
   "name": "python",
   "nbconvert_exporter": "python",
   "pygments_lexer": "ipython3",
   "version": "3.12.8"
  }
 },
 "nbformat": 4,
 "nbformat_minor": 5
}
