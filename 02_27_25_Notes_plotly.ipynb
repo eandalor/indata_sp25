{
 "cells": [
  {
   "cell_type": "code",
   "execution_count": null,
   "id": "e38f0302-1f50-467f-b7e5-70bb6fa9b334",
   "metadata": {},
   "outputs": [],
   "source": [
    "import pandas as pd\n",
    "import plotly.express as px\n",
    "\n",
    "# After group 2\n",
    "import json"
   ]
  },
  {
   "cell_type": "code",
   "execution_count": null,
   "id": "7b4a4888-ddff-42c5-9fc3-4550962a1a63",
   "metadata": {},
   "outputs": [],
   "source": [
    "df = pd.read_csv('archive.csv')"
   ]
  },
  {
   "cell_type": "code",
   "execution_count": null,
   "id": "f1d8c905-65b9-4692-a7c7-4dbcf14d2358",
   "metadata": {},
   "outputs": [],
   "source": [
    "df.index"
   ]
  },
  {
   "cell_type": "code",
   "execution_count": null,
   "id": "bab06a68-81bf-4146-ad57-d9b7d8da39b6",
   "metadata": {},
   "outputs": [],
   "source": [
    "df.head()"
   ]
  },
  {
   "cell_type": "code",
   "execution_count": null,
   "id": "15bd549e-d2df-492f-8690-328dd3a614aa",
   "metadata": {},
   "outputs": [],
   "source": [
    "fig1 = px.bar(df, x = 'Year', y = 'February Average Temperature')\n",
    "fig2 = px.bar(df, x = 'Year', y = 'March Average Temperature')\n",
    "\n",
    "fig1.show()\n",
    "fig2.show()"
   ]
  },
  {
   "cell_type": "code",
   "execution_count": null,
   "id": "085d929a-59c7-44d4-aa54-ddce155af0a9",
   "metadata": {},
   "outputs": [],
   "source": [
    "# Make dictionary from figure\n",
    "\n",
    "fig1_dict = fig1.to_dict()\n",
    "fig1_dict.keys()"
   ]
  },
  {
   "cell_type": "code",
   "execution_count": null,
   "id": "d39cb2aa-a5b3-49c4-b4dd-f243a2925b8b",
   "metadata": {},
   "outputs": [],
   "source": [
    "fig1_dict['data'][0].keys()"
   ]
  },
  {
   "cell_type": "code",
   "execution_count": null,
   "id": "a71d3519-006f-4679-b2f7-614bbae419c6",
   "metadata": {},
   "outputs": [],
   "source": [
    "fig1_dict['data'][0]"
   ]
  },
  {
   "cell_type": "code",
   "execution_count": null,
   "id": "23018c2a-46c9-4326-b46d-1d55a47a8f8d",
   "metadata": {},
   "outputs": [],
   "source": [
    "fig1_dict['data'][0]['type'] = 'scatter'\n",
    "fig1_dict['data'][0]['type']"
   ]
  },
  {
   "cell_type": "code",
   "execution_count": null,
   "id": "b743e225-370b-471b-b4f6-79dcbf737dd4",
   "metadata": {},
   "outputs": [],
   "source": [
    "fig1_dict['layout']['yaxis']['range'] = [20, 50]\n",
    "fig1_dict['layout']['yaxis']"
   ]
  },
  {
   "cell_type": "code",
   "execution_count": null,
   "id": "6fb3d745-495b-4047-a5bd-d08087e77f71",
   "metadata": {},
   "outputs": [],
   "source": [
    "fig1_dict['layout']['xaxis']"
   ]
  },
  {
   "cell_type": "code",
   "execution_count": null,
   "id": "d0e7018e-7a54-4dac-94f3-096d703d81f4",
   "metadata": {},
   "outputs": [],
   "source": [
    "fig3 = px.bar(df, x = 'Year', y = 'February Average Temperature', color = 'Punxsutawney Phil',\n",
    "             color_discrete_map = {'No Shadow': 'green', 'Full Shadow': 'red', 'No Record': 'blue'})\n",
    "fig4 = px.bar(df, x = 'Year', y = 'March Average Temperature')\n",
    "\n",
    "fig3.show()\n",
    "fig4.show()"
   ]
  },
  {
   "cell_type": "code",
   "execution_count": null,
   "id": "374494e1-b3a8-4fbb-8fa2-2cb58158f06b",
   "metadata": {},
   "outputs": [],
   "source": [
    "fig5 = px.bar(df, x = 'Year', y = 'February Average Temperature', color = 'Punxsutawney Phil',\n",
    "             color_discrete_map = {'No Shadow': 'green', 'Full Shadow': 'red', 'No Record': 'blue'},\n",
    "             category_orders = {'Year': sorted(df['Year'].unique())})\n",
    "fig6 = px.bar(df, x = 'Year', y = 'March Average Temperature', color = 'Punxsutawney Phil',\n",
    "             color_discrete_map = {'No Shadow': 'green', 'Full Shadow': 'red', 'No Record': 'blue'},\n",
    "             category_orders = {'Year': sorted(df['Year'].unique())})\n",
    "\n",
    "fig5.show()\n",
    "fig6.show()"
   ]
  },
  {
   "cell_type": "code",
   "execution_count": null,
   "id": "7d3ec118-62bc-4eae-a019-74e3e1e77f6d",
   "metadata": {},
   "outputs": [],
   "source": [
    "fig7 = px.bar(df, x = 'Year', y = 'February Average Temperature', color = 'Punxsutawney Phil',\n",
    "             color_discrete_map = {'No Shadow': 'lightgreen', 'Full Shadow': 'lightblue', 'No Record': 'grey'},\n",
    "             category_orders = {'Year': sorted(df['Year'].unique())})\n",
    "fig8 = px.bar(df, x = 'Year', y = 'March Average Temperature', color = 'Punxsutawney Phil',\n",
    "             color_discrete_map = {'No Shadow': 'lightgreen', 'Full Shadow': 'lightblue', 'No Record': 'grey'},\n",
    "             category_orders = {'Year': sorted(df['Year'].unique())})\n",
    "\n",
    "fig7.update_layout (\n",
    "    title = 'Groundhog Feb',\n",
    "    yaxis_title = 'Average Temp',\n",
    "    xaxis_title = 'Year'\n",
    ")\n",
    "\n",
    "fig8.update_layout (\n",
    "    title = 'Groundhog March',\n",
    "    yaxis_title = 'Average Temp',\n",
    "    xaxis_title = 'Year'\n",
    ")\n",
    "\n",
    "config = {'scrollZoom': True}\n",
    "\n",
    "fig7.show(config = config)\n",
    "fig8.show(config = config)"
   ]
  },
  {
   "cell_type": "code",
   "execution_count": null,
   "id": "bc564d40-0dc3-4780-b1ff-94a0df0837ca",
   "metadata": {},
   "outputs": [],
   "source": [
    "fig9 = px.scatter(df, x = 'Year', y = 'February Average Temperature', color = 'Punxsutawney Phil',\n",
    "             color_discrete_map = {'No Shadow': 'lightgreen', 'Full Shadow': 'lightblue', 'No Record': 'grey'},\n",
    "             category_orders = {'Year': sorted(df['Year'].unique())})\n",
    "fig10 = px.scatter(df, x = 'Year', y = 'March Average Temperature', color = 'Punxsutawney Phil',\n",
    "             color_discrete_map = {'No Shadow': 'lightgreen', 'Full Shadow': 'lightblue', 'No Record': 'grey'},\n",
    "             category_orders = {'Year': sorted(df['Year'].unique())})\n",
    "\n",
    "fig9.update_layout (\n",
    "    title = 'Groundhog Feb',\n",
    "    yaxis_title = 'Average Temp',\n",
    "    xaxis_title = 'Year'\n",
    ")\n",
    "\n",
    "fig10.update_layout (\n",
    "    title = 'Groundhog March',\n",
    "    yaxis_title = 'Average Temp',\n",
    "    xaxis_title = 'Year'\n",
    ")\n",
    "\n",
    "config = {'scrollZoom': True}\n",
    "\n",
    "fig9.show(config = config)\n",
    "fig10.show(config = config)"
   ]
  },
  {
   "cell_type": "code",
   "execution_count": null,
   "id": "e0e9514b-e388-4172-92ec-0c168fec9ae2",
   "metadata": {},
   "outputs": [],
   "source": [
    "fig11 = px.bar(df, x = 'Year', y = 'February Average Temperature', color = 'Punxsutawney Phil',\n",
    "             color_discrete_map = {'No Shadow': 'lightgreen', 'Full Shadow': 'lightblue', 'No Record': 'grey'},\n",
    "             category_orders = {'Year': sorted(df['Year'].unique())})\n",
    "fig12 = px.bar(df, x = 'Year', y = 'March Average Temperature', color = 'Punxsutawney Phil',\n",
    "             color_discrete_map = {'No Shadow': 'lightgreen', 'Full Shadow': 'lightblue', 'No Record': 'grey'},\n",
    "             category_orders = {'Year': sorted(df['Year'].unique())})\n",
    "\n",
    "fig11.update_layout (\n",
    "    title = 'Groundhog Feb',\n",
    "    yaxis_title = 'Average Temp',\n",
    "    xaxis_title = 'Year',\n",
    "    xaxis = dict(range = [100, 140]),\n",
    "    yaxis = dict(range = [20, 50])\n",
    ")\n",
    "\n",
    "fig12.update_layout (\n",
    "    title = 'Groundhog March',\n",
    "    yaxis_title = 'Average Temp',\n",
    "    xaxis_title = 'Year',\n",
    "    xaxis = dict(range = [60, 70]),\n",
    "    yaxis = dict(range = [0, 50])\n",
    ")\n",
    "\n",
    "config = {'scrollZoom': True}\n",
    "\n",
    "fig11.show(config = config)\n",
    "fig12.show(config = config)"
   ]
  },
  {
   "cell_type": "code",
   "execution_count": null,
   "id": "29eb3ba7-3656-48fb-8729-0588a1580769",
   "metadata": {},
   "outputs": [],
   "source": [
    "fig13 = px.histogram(df, x = 'Punxsutawney Phil')\n",
    "fig13.show()"
   ]
  },
  {
   "cell_type": "code",
   "execution_count": null,
   "id": "33527485-ed2f-4219-93d3-2676bd2f14c7",
   "metadata": {},
   "outputs": [],
   "source": [
    "fig14 = px.histogram(df, x = 'February Average Temperature')\n",
    "fig14.show()"
   ]
  },
  {
   "cell_type": "code",
   "execution_count": null,
   "id": "3df39d25-0942-430d-838b-8e50b0a3b6d7",
   "metadata": {},
   "outputs": [],
   "source": [
    "# Strip plot one variable categorical, one variable continuous\n",
    "\n",
    "fig15 = px.strip(df, x = 'February Average Temperature', y = 'Punxsutawney Phil')\n",
    "fig15.show()"
   ]
  },
  {
   "cell_type": "code",
   "execution_count": null,
   "id": "000dbb16-50f4-4adc-ae47-e8ef48b955c5",
   "metadata": {},
   "outputs": [],
   "source": [
    "fig16 = px.box(df, x = 'Punxsutawney Phil', y = 'February Average Temperature', color = 'Punxsutawney Phil')\n",
    "fig16.show()"
   ]
  },
  {
   "cell_type": "markdown",
   "id": "23bf545e-9b7e-446b-9071-c55f6185e1c3",
   "metadata": {},
   "source": [
    "After group 2 / fix '1901-2000' -"
   ]
  },
  {
   "cell_type": "code",
   "execution_count": null,
   "id": "2dfa95da-ed8b-4d5b-b29e-def41a2bf912",
   "metadata": {},
   "outputs": [],
   "source": [
    "df.dtypes\n",
    "\n",
    "# Year is an object"
   ]
  },
  {
   "cell_type": "code",
   "execution_count": null,
   "id": "b1f0a389-abee-481a-a6aa-d287d260cb2e",
   "metadata": {},
   "outputs": [],
   "source": [
    "df['Year_int'] = df['Year'].astype('int64')"
   ]
  },
  {
   "cell_type": "code",
   "execution_count": null,
   "id": "fd28edf2-9f08-4af8-b7fb-d214ffe451ec",
   "metadata": {},
   "outputs": [],
   "source": [
    "df['Year'].unique()"
   ]
  },
  {
   "cell_type": "code",
   "execution_count": null,
   "id": "9cb01150-2194-4daa-9d02-588bbf7a962f",
   "metadata": {},
   "outputs": [],
   "source": [
    "df[df['Year'] == '1901-2000']"
   ]
  },
  {
   "cell_type": "code",
   "execution_count": null,
   "id": "d99d1f5d-4d2c-4a35-9025-4dff19269c1f",
   "metadata": {},
   "outputs": [],
   "source": [
    "dfs = df[df['Year'] != '1901-2000']\n",
    "dfs.shape"
   ]
  },
  {
   "cell_type": "code",
   "execution_count": null,
   "id": "3fec3d4b-02d0-4744-b9b3-1c42a97fbf09",
   "metadata": {},
   "outputs": [],
   "source": [
    "dfs['Year_int'] = dfs['Year'].astype('int')"
   ]
  },
  {
   "cell_type": "code",
   "execution_count": null,
   "id": "d616837f-8657-4d83-9767-a1fa1a3fa610",
   "metadata": {},
   "outputs": [],
   "source": [
    "dfs['Year_int'][0:10]"
   ]
  },
  {
   "cell_type": "code",
   "execution_count": null,
   "id": "1ddaa3f3-05a9-486b-99cb-94efd594c37e",
   "metadata": {},
   "outputs": [],
   "source": [
    "fig5_2 = px.bar(dfs, x = 'Year_int', y = 'February Average Temperature', color = 'Punxsutawney Phil',\n",
    "             color_discrete_map = {'No Shadow': 'green', 'Full Shadow': 'red', 'No Record': 'blue'},\n",
    "             category_orders = {'Year': sorted(df['Year'].unique())})\n",
    "fig6_2 = px.bar(dfs, x = 'Year_int', y = 'March Average Temperature', color = 'Punxsutawney Phil',\n",
    "             color_discrete_map = {'No Shadow': 'green', 'Full Shadow': 'red', 'No Record': 'blue'},\n",
    "             category_orders = {'Year': sorted(df['Year'].unique())})\n",
    "\n",
    "fig5_2.show()\n",
    "fig6_2.show()"
   ]
  }
 ],
 "metadata": {
  "kernelspec": {
   "display_name": "Python 3 (ipykernel)",
   "language": "python",
   "name": "python3"
  },
  "language_info": {
   "codemirror_mode": {
    "name": "ipython",
    "version": 3
   },
   "file_extension": ".py",
   "mimetype": "text/x-python",
   "name": "python",
   "nbconvert_exporter": "python",
   "pygments_lexer": "ipython3",
   "version": "3.12.8"
  }
 },
 "nbformat": 4,
 "nbformat_minor": 5
}
