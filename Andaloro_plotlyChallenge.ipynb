{
 "cells": [
  {
   "cell_type": "code",
   "execution_count": null,
   "id": "aa986b79-d6ef-4dda-b191-43003ce54837",
   "metadata": {},
   "outputs": [],
   "source": [
    "import pandas as pd\n",
    "import plotly.express as px"
   ]
  },
  {
   "cell_type": "code",
   "execution_count": null,
   "id": "ddf70625-5daf-402c-b38d-c51683b78a91",
   "metadata": {},
   "outputs": [],
   "source": [
    "df = pd.read_csv('archive.csv')"
   ]
  },
  {
   "cell_type": "code",
   "execution_count": null,
   "id": "959447e0-6fda-491c-8b8a-c15dfb700642",
   "metadata": {},
   "outputs": [],
   "source": [
    "df.index"
   ]
  },
  {
   "cell_type": "code",
   "execution_count": null,
   "id": "7a73a441-0dde-46ce-95ef-bc00acedf9b8",
   "metadata": {},
   "outputs": [],
   "source": [
    "df.head()"
   ]
  },
  {
   "cell_type": "code",
   "execution_count": null,
   "id": "6f135335-c0ac-42dd-852b-925cfa2170af",
   "metadata": {},
   "outputs": [],
   "source": [
    "fig1 = px.bar(df, x = 'Year', y = 'February Average Temperature')\n",
    "fig2 = px.bar(df, x = 'Year', y = 'March Average Temperature')\n",
    "\n",
    "fig1.show()\n",
    "fig2.show()"
   ]
  },
  {
   "cell_type": "code",
   "execution_count": null,
   "id": "2b65e8da-bbba-46d3-8784-be8ea4890652",
   "metadata": {},
   "outputs": [],
   "source": [
    "fig3 = px.bar(df, x = 'Year', y = 'February Average Temperature', color = 'Punxsutawney Phil',\n",
    "             color_discrete_map = {'No Shadow': 'green', 'Full Shadow': 'red', 'No Record': 'blue'})\n",
    "fig4 = px.bar(df, x = 'Year', y = 'March Average Temperature', color = 'Punxsutawney Phil',\n",
    "             color_discrete_map = {'No Shadow': 'green', 'Full Shadow': 'red', 'No Record': 'blue'})\n",
    "\n",
    "fig3.show()\n",
    "fig4.show()"
   ]
  },
  {
   "cell_type": "code",
   "execution_count": null,
   "id": "7b29cd25-43f1-49d5-b4f9-47aa262081f4",
   "metadata": {},
   "outputs": [],
   "source": [
    "fig5 = px.bar(df, x = 'Year', y = 'February Average Temperature', color = 'Punxsutawney Phil',\n",
    "             color_discrete_map = {'No Shadow': 'green', 'Full Shadow': 'red', 'No Record': 'blue'},\n",
    "              category_orders = {'Year': sorted(df['Year'].unique())})\n",
    "fig6 = px.bar(df, x = 'Year', y = 'March Average Temperature', color = 'Punxsutawney Phil',\n",
    "             color_discrete_map = {'No Shadow': 'green', 'Full Shadow': 'red', 'No Record': 'blue'},\n",
    "              category_orders = {'Year': sorted(df['Year'].unique())})\n",
    "\n",
    "fig5.show()\n",
    "fig6.show()"
   ]
  },
  {
   "cell_type": "code",
   "execution_count": null,
   "id": "86e9e77b-0c2b-4fff-bbe2-cd689b6ce6b4",
   "metadata": {},
   "outputs": [],
   "source": [
    "fig7 = px.bar(df, x = 'Year', y = 'February Average Temperature', color = 'Punxsutawney Phil',\n",
    "             color_discrete_map = {'No Shadow': 'lightgreen', 'Full Shadow': 'lightblue', 'No Record': 'grey'},\n",
    "             category_orders = {'Year': sorted(df['Year'].unique())})\n",
    "fig8 = px.bar(df, x = 'Year', y = 'March Average Temperature', color = 'Punxsutawney Phil',\n",
    "             color_discrete_map = {'No Shadow': 'lightgreen', 'Full Shadow': 'lightblue', 'No Record': 'grey'},\n",
    "             category_orders = {'Year': sorted(df['Year'].unique())})\n",
    "\n",
    "fig7.update_layout (\n",
    "    title = 'Groundhog Feb',\n",
    "    yaxis_title = 'Average Temp',\n",
    "    xaxis_title = 'Year'\n",
    ")\n",
    "\n",
    "fig8.update_layout (\n",
    "    title = 'Groundhog March',\n",
    "    yaxis_title = 'Average Temp',\n",
    "    xaxis_title = 'Year'\n",
    ")\n",
    "\n",
    "config = {'scrollZoom': True}\n",
    "\n",
    "fig7.show(config = config)\n",
    "fig8.show(config = config)"
   ]
  },
  {
   "cell_type": "code",
   "execution_count": null,
   "id": "df8c006b-e931-44e8-8dce-15d3b7f1c38c",
   "metadata": {},
   "outputs": [],
   "source": [
    "fig9 = px.scatter(df, x = 'Year', y = 'February Average Temperature', color = 'Punxsutawney Phil',\n",
    "             color_discrete_map = {'No Shadow': 'lightgreen', 'Full Shadow': 'lightblue', 'No Record': 'grey'},\n",
    "             category_orders = {'Year': sorted(df['Year'].unique())})\n",
    "fig10 = px.scatter(df, x = 'Year', y = 'March Average Temperature', color = 'Punxsutawney Phil',\n",
    "             color_discrete_map = {'No Shadow': 'lightgreen', 'Full Shadow': 'lightblue', 'No Record': 'grey'},\n",
    "             category_orders = {'Year': sorted(df['Year'].unique())})\n",
    "\n",
    "fig9.update_layout (\n",
    "    title = 'Groundhog Feb',\n",
    "    yaxis_title = 'Average Temp',\n",
    "    xaxis_title = 'Year'\n",
    ")\n",
    "\n",
    "fig10.update_layout (\n",
    "    title = 'Groundhog March',\n",
    "    yaxis_title = 'Average Temp',\n",
    "    xaxis_title = 'Year'\n",
    ")\n",
    "\n",
    "config = {'scrollZoom': True}\n",
    "\n",
    "fig9.show(config = config)\n",
    "fig10.show(config = config)"
   ]
  },
  {
   "cell_type": "code",
   "execution_count": null,
   "id": "4053aee8-aced-4fef-a80b-adf3bad10b07",
   "metadata": {},
   "outputs": [],
   "source": [
    "fig11 = px.bar(df, x = 'Year', y = 'February Average Temperature', color = 'Punxsutawney Phil',\n",
    "             color_discrete_map = {'No Shadow': 'lightgreen', 'Full Shadow': 'lightblue', 'No Record': 'grey'},\n",
    "             category_orders = {'Year': sorted(df['Year'].unique())})\n",
    "fig12 = px.bar(df, x = 'Year', y = 'March Average Temperature', color = 'Punxsutawney Phil',\n",
    "             color_discrete_map = {'No Shadow': 'lightgreen', 'Full Shadow': 'lightblue', 'No Record': 'grey'},\n",
    "             category_orders = {'Year': sorted(df['Year'].unique())})\n",
    "\n",
    "fig11.update_layout (\n",
    "    title = 'Groundhog Feb',\n",
    "    yaxis_title = 'Average Temp',\n",
    "    xaxis_title = 'Year',\n",
    "    xaxis = dict(range = [100, 140]),\n",
    "    yaxis = dict(range = [20, 50])\n",
    ")\n",
    "\n",
    "fig12.update_layout (\n",
    "    title = 'Groundhog March',\n",
    "    yaxis_title = 'Average Temp',\n",
    "    xaxis_title = 'Year',\n",
    "    xaxis = dict(range = [60, 70]),\n",
    "    yaxis = dict(range = [0, 50])\n",
    ")\n",
    "\n",
    "config = {'scrollZoom': True}\n",
    "\n",
    "fig11.show(config = config)\n",
    "fig12.show(config = config)"
   ]
  }
 ],
 "metadata": {
  "kernelspec": {
   "display_name": "Python 3 (ipykernel)",
   "language": "python",
   "name": "python3"
  },
  "language_info": {
   "codemirror_mode": {
    "name": "ipython",
    "version": 3
   },
   "file_extension": ".py",
   "mimetype": "text/x-python",
   "name": "python",
   "nbconvert_exporter": "python",
   "pygments_lexer": "ipython3",
   "version": "3.12.8"
  }
 },
 "nbformat": 4,
 "nbformat_minor": 5
}
