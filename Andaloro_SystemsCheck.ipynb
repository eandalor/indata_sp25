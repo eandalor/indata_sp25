{
 "cells": [
  {
   "cell_type": "markdown",
   "id": "eba1599d-11d2-450a-95ca-f632711d826e",
   "metadata": {},
   "source": [
    "# Systems Check\n",
    "## EMAT 62110\n",
    "### Ethan Andaloro\n",
    "### 1.20.25\n"
   ]
  },
  {
   "cell_type": "markdown",
   "id": "199ce3e5-b12d-43dc-8e4e-ba6073a99d04",
   "metadata": {},
   "source": [
    "What I hope to get out of this class:\n",
    "1. **I hope to get better at Python**\n",
    "2. *I hope to learn new ways to display and interact with data*"
   ]
  },
  {
   "cell_type": "markdown",
   "id": "4520cad3-3603-4daa-86dd-9e7976bed9bf",
   "metadata": {},
   "source": [
    "# Image:\n",
    "![Image](https://s.yimg.com/cv/apiv2/default/nba/20220917/500x500/cavaliers_wbg.png)"
   ]
  },
  {
   "cell_type": "markdown",
   "id": "b8b7412a-7ddc-4eb9-9978-7f67ed61d520",
   "metadata": {},
   "source": [
    "Why I chose this image:\n",
    "1. I like the **Cavs**\n",
    "2. I am watching the Cavs *right now*"
   ]
  },
  {
   "cell_type": "code",
   "execution_count": 1,
   "id": "18c5d913-cde5-40f4-8ed0-68be53d04975",
   "metadata": {},
   "outputs": [
    {
     "data": {
      "text/plain": [
       "4"
      ]
     },
     "execution_count": 1,
     "metadata": {},
     "output_type": "execute_result"
    }
   ],
   "source": [
    "# variable assignment\n",
    "x = 2*2\n",
    "x"
   ]
  },
  {
   "cell_type": "code",
   "execution_count": 2,
   "id": "b93abddc-4ee5-4072-afae-a5ad24079726",
   "metadata": {},
   "outputs": [
    {
     "name": "stdout",
     "output_type": "stream",
     "text": [
      "Sunday\n",
      "Monday\n",
      "Tuesday\n",
      "Wednesday\n",
      "Thursday\n",
      "Friday\n",
      "Saturday\n"
     ]
    }
   ],
   "source": [
    "# list, for loop, print statement\n",
    "weekday = ['Sun','Mon','Tues','Wednes','Thurs','Fri','Satur']\n",
    "for x in weekday:\n",
    "    print(x + 'day')"
   ]
  },
  {
   "cell_type": "code",
   "execution_count": 3,
   "id": "086c2740-af5d-49bb-82fb-2e509de587b3",
   "metadata": {},
   "outputs": [
    {
     "data": {
      "text/plain": [
       "'hello'"
      ]
     },
     "execution_count": 3,
     "metadata": {},
     "output_type": "execute_result"
    }
   ],
   "source": [
    "# function, return statement\n",
    "def say_hello():\n",
    "    return 'hello'\n",
    "say_hello()"
   ]
  }
 ],
 "metadata": {
  "kernelspec": {
   "display_name": "Python 3 (ipykernel)",
   "language": "python",
   "name": "python3"
  },
  "language_info": {
   "codemirror_mode": {
    "name": "ipython",
    "version": 3
   },
   "file_extension": ".py",
   "mimetype": "text/x-python",
   "name": "python",
   "nbconvert_exporter": "python",
   "pygments_lexer": "ipython3",
   "version": "3.12.8"
  }
 },
 "nbformat": 4,
 "nbformat_minor": 5
}
